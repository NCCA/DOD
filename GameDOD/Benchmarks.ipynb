{
 "cells": [
  {
   "cell_type": "markdown",
   "metadata": {},
   "source": [
    "# Benchmarks for DOD Game Design"
   ]
  },
  {
   "cell_type": "markdown",
   "metadata": {},
   "source": [
    "First lets load in our benchmark code generated from the C++ program this comes from the files renderBench.txt and updateBench.txt"
   ]
  },
  {
   "cell_type": "code",
   "execution_count": 1,
   "metadata": {},
   "outputs": [
    {
     "name": "stdout",
     "output_type": "stream",
     "text": [
      "Number of elements 10995\n"
     ]
    }
   ],
   "source": [
    "import numpy as np\n",
    "\n",
    "renderFile=open('renderBench.txt',\"r\")\n",
    "renderData=renderFile.readlines()\n",
    "\n",
    "updateFile=open('updateBench.txt',\"r\")\n",
    "updateData=updateFile.readlines()\n",
    "timings={}\n",
    "updateDurations=[]\n",
    "renderDurations=[]\n",
    "updateResolution=''\n",
    "renderResolution=''\n",
    "for i in updateData :\n",
    "    if 'Duration' in i :\n",
    "        data=i.split('\\t')\n",
    "        updateDurations.append(int(data[1]))\n",
    "    elif 'Resolution' in i :\n",
    "        data=i.split(' ')\n",
    "        updateResolution=data[1]\n",
    "        \n",
    "for i in renderData :\n",
    "    if 'Duration' in i :\n",
    "        data=i.split('\\t')\n",
    "        renderDurations.append(int(data[1]))\n",
    "    elif 'Resolution' in i :\n",
    "        data=i.split(' ')\n",
    "        renderResolution=data[1]\n",
    "print('Number of elements {0}'.format(len(renderDurations)))\n",
    "timings['render']=renderDurations\n",
    "timings['update']=updateDurations\n"
   ]
  },
  {
   "cell_type": "markdown",
   "metadata": {},
   "source": [
    "Now we can do some data analysis on the times and see what happens"
   ]
  },
  {
   "cell_type": "code",
   "execution_count": 2,
   "metadata": {},
   "outputs": [
    {
     "data": {
      "text/html": [
       "<div>\n",
       "<style scoped>\n",
       "    .dataframe tbody tr th:only-of-type {\n",
       "        vertical-align: middle;\n",
       "    }\n",
       "\n",
       "    .dataframe tbody tr th {\n",
       "        vertical-align: top;\n",
       "    }\n",
       "\n",
       "    .dataframe thead th {\n",
       "        text-align: right;\n",
       "    }\n",
       "</style>\n",
       "<table border=\"1\" class=\"dataframe\">\n",
       "  <thead>\n",
       "    <tr style=\"text-align: right;\">\n",
       "      <th></th>\n",
       "      <th>render</th>\n",
       "      <th>update</th>\n",
       "    </tr>\n",
       "  </thead>\n",
       "  <tbody>\n",
       "    <tr>\n",
       "      <th>count</th>\n",
       "      <td>10995.000000</td>\n",
       "      <td>10995.000000</td>\n",
       "    </tr>\n",
       "    <tr>\n",
       "      <th>mean</th>\n",
       "      <td>55.585357</td>\n",
       "      <td>2436.873852</td>\n",
       "    </tr>\n",
       "    <tr>\n",
       "      <th>std</th>\n",
       "      <td>26.018092</td>\n",
       "      <td>90.642536</td>\n",
       "    </tr>\n",
       "    <tr>\n",
       "      <th>min</th>\n",
       "      <td>34.000000</td>\n",
       "      <td>2319.000000</td>\n",
       "    </tr>\n",
       "    <tr>\n",
       "      <th>25%</th>\n",
       "      <td>40.000000</td>\n",
       "      <td>2388.000000</td>\n",
       "    </tr>\n",
       "    <tr>\n",
       "      <th>50%</th>\n",
       "      <td>45.000000</td>\n",
       "      <td>2405.000000</td>\n",
       "    </tr>\n",
       "    <tr>\n",
       "      <th>75%</th>\n",
       "      <td>65.000000</td>\n",
       "      <td>2445.000000</td>\n",
       "    </tr>\n",
       "    <tr>\n",
       "      <th>90%</th>\n",
       "      <td>87.000000</td>\n",
       "      <td>2548.000000</td>\n",
       "    </tr>\n",
       "    <tr>\n",
       "      <th>99%</th>\n",
       "      <td>144.000000</td>\n",
       "      <td>2788.060000</td>\n",
       "    </tr>\n",
       "    <tr>\n",
       "      <th>99.9%</th>\n",
       "      <td>243.126000</td>\n",
       "      <td>3219.006000</td>\n",
       "    </tr>\n",
       "    <tr>\n",
       "      <th>max</th>\n",
       "      <td>691.000000</td>\n",
       "      <td>3353.000000</td>\n",
       "    </tr>\n",
       "  </tbody>\n",
       "</table>\n",
       "</div>"
      ],
      "text/plain": [
       "             render        update\n",
       "count  10995.000000  10995.000000\n",
       "mean      55.585357   2436.873852\n",
       "std       26.018092     90.642536\n",
       "min       34.000000   2319.000000\n",
       "25%       40.000000   2388.000000\n",
       "50%       45.000000   2405.000000\n",
       "75%       65.000000   2445.000000\n",
       "90%       87.000000   2548.000000\n",
       "99%      144.000000   2788.060000\n",
       "99.9%    243.126000   3219.006000\n",
       "max      691.000000   3353.000000"
      ]
     },
     "execution_count": 2,
     "metadata": {},
     "output_type": "execute_result"
    }
   ],
   "source": [
    "import pandas as pd\n",
    "import matplotlib as plt\n",
    "%matplotlib inline\n",
    "\n",
    "renderDF=pd.DataFrame(data=timings)\n",
    "renderDF.describe(percentiles=[.25, .5, .75, 0.9, 0.99, 0.999])\n",
    "\n"
   ]
  },
  {
   "cell_type": "code",
   "execution_count": 3,
   "metadata": {},
   "outputs": [
    {
     "data": {
      "text/plain": [
       "array([[<matplotlib.axes._subplots.AxesSubplot object at 0x11b0e65f8>,\n",
       "        <matplotlib.axes._subplots.AxesSubplot object at 0x11b3ee0b8>]],\n",
       "      dtype=object)"
      ]
     },
     "execution_count": 3,
     "metadata": {},
     "output_type": "execute_result"
    },
    {
     "data": {
      "image/png": "[encoded data removed]",
      "text/plain": [
       "<Figure size 1440x720 with 2 Axes>"
      ]
     },
     "metadata": {
      "needs_background": "light"
     },
     "output_type": "display_data"
    }
   ],
   "source": [
    "S = renderDF\n",
    "S = S[~((S - S.mean()).abs() > 3.5 * S.std())]\n",
    "\n",
    "ndf = pd.DataFrame(data=S)\n",
    "#ndf['large'] = S\n",
    "ndf.describe(percentiles=[.25, .5, .75, 0.9, 0.99, 0.999])\n",
    "ndf.hist(grid=True, figsize=(20, 10), bins=100 )\n"
   ]
  },
  {
   "cell_type": "code",
   "execution_count": null,
   "metadata": {},
   "outputs": [],
   "source": []
  }
 ],
 "metadata": {
  "kernelspec": {
   "display_name": "Python 3",
   "language": "python",
   "name": "python3"
  },
  "language_info": {
   "codemirror_mode": {
    "name": "ipython",
    "version": 3
   },
   "file_extension": ".py",
   "mimetype": "text/x-python",
   "name": "python",
   "nbconvert_exporter": "python",
   "pygments_lexer": "ipython3",
   "version": "3.7.1"
  }
 },
 "nbformat": 4,
 "nbformat_minor": 2
}
